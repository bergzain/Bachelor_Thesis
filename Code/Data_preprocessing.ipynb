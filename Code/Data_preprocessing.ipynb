{
 "cells": [
  {
   "cell_type": "code",
   "execution_count": 17,
   "metadata": {
    "collapsed": true
   },
   "outputs": [],
   "source": [
    "import torch\n",
    "import torchaudio\n",
    "import glob\n"
   ]
  },
  {
   "cell_type": "code",
   "execution_count": 14,
   "outputs": [],
   "source": [
    "    AUDIO_DIR = \"/Users/zainhazzouri/projects/Bachelor_Thesis/Data/Kaggle/dataset\"\n",
    "    SAMPLE_RATE = 22050\n",
    "    NUM_SAMPLES = 22050\n",
    "    bit_depth = 16\n",
    "    hop_length = 512\n",
    "    n_mfcc = 13"
   ],
   "metadata": {
    "collapsed": false
   }
  },
  {
   "cell_type": "code",
   "execution_count": 18,
   "outputs": [
    {
     "name": "stdout",
     "output_type": "stream",
     "text": [
      "Using mps\n"
     ]
    }
   ],
   "source": [
    "    if torch.cuda.is_available():\n",
    "        device = \"cuda\"\n",
    "    elif torch.backends.mps.is_built(): # if you have apple silicon mac\n",
    "        device = \"mps\" ## if it doesn't work try device = torch.device('mps')`\n",
    "    else:\n",
    "        device = \"cpu\"\n",
    "    print(f\"Using {device}\")"
   ],
   "metadata": {
    "collapsed": false
   }
  },
  {
   "cell_type": "code",
   "execution_count": 33,
   "outputs": [],
   "source": [
    "audio_files_path = glob.glob(AUDIO_DIR+\"/*.wav\") # path to audio folder\n",
    "# print(audio_files)"
   ],
   "metadata": {
    "collapsed": false
   }
  },
  {
   "cell_type": "code",
   "execution_count": 40,
   "outputs": [],
   "source": [
    "def MFCC_Converter(filepath):\n",
    "    sound, sample_rate = torchaudio.load(filepath)\n",
    "    mfcc = torchaudio.transforms.MFCC(sample_rate=sample_rate)(sound)\n",
    "    return mfcc"
   ],
   "metadata": {
    "collapsed": false
   }
  },
  {
   "cell_type": "code",
   "execution_count": null,
   "outputs": [],
   "source": [
    "# create empty lists\n",
    "mfccs_values = []\n",
    "\n",
    "for file_path in audio_files_path:\n",
    "    # print(file_path)\n",
    "    MFCC_Converter(file_path)"
   ],
   "metadata": {
    "collapsed": false,
    "pycharm": {
     "is_executing": true
    }
   }
  },
  {
   "cell_type": "markdown",
   "source": [],
   "metadata": {
    "collapsed": false
   }
  }
 ],
 "metadata": {
  "kernelspec": {
   "display_name": "Python 3",
   "language": "python",
   "name": "python3"
  },
  "language_info": {
   "codemirror_mode": {
    "name": "ipython",
    "version": 2
   },
   "file_extension": ".py",
   "mimetype": "text/x-python",
   "name": "python",
   "nbconvert_exporter": "python",
   "pygments_lexer": "ipython2",
   "version": "2.7.6"
  }
 },
 "nbformat": 4,
 "nbformat_minor": 0
}
